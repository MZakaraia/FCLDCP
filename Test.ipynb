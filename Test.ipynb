{
 "cells": [
  {
   "cell_type": "code",
   "execution_count": 21,
   "metadata": {},
   "outputs": [],
   "source": [
    "import HeuristicApproach as ha\n",
    "from ABC_for_FCLDCP import *\n",
    "import matplotlib.pyplot as plt\n",
    "import pandas as pd\n",
    "from ABC_I_for_FCLDCP import *\n",
    "from ABC_II_for_FCLDCP import *"
   ]
  },
  {
   "cell_type": "code",
   "execution_count": 22,
   "metadata": {},
   "outputs": [],
   "source": [
    "import os\n",
    "Benchmarks = [i[:-5] for i in os.listdir() if i[-4:] == 'xlsx' and i[:4] == 'Prob']"
   ]
  },
  {
   "cell_type": "code",
   "execution_count": null,
   "metadata": {},
   "outputs": [],
   "source": [
    "Capacities, Demands, FixedCosts, TransPortationCosts\n",
    "Demands, Capacities,TransPortationCosts, FixedCosts"
   ]
  },
  {
   "cell_type": "code",
   "execution_count": 18,
   "metadata": {},
   "outputs": [],
   "source": [
    "import os\n",
    "Benchmarks = [i[:-5] for i in os.listdir() if i[-4:] == 'xlsx' and i[:4] == 'Prob']\n",
    "ABC_IFn = lambda ProbData, alpha: ABC_Algorithm_FCLDCP(100, 100, 1, 40, ProbData[1], ProbData[0],\\\n",
    "     ProbData[3], ProbData[2], alpha)\n",
    "ABC_IIFn = lambda ProbData, alpha: ABC_Algorithm_FCLDCP_I(100, 100, 30, ProbData[1], ProbData[0],\\\n",
    "     ProbData[3], ProbData[2], alpha)\n",
    "ABC_IIIFn = lambda ProbData, alpha: ABC_II_Algorithm_FCLDCP(80, 80, ProbData[1], ProbData[0],\\\n",
    "     ProbData[3], ProbData[2], 40, alpha)"
   ]
  },
  {
   "cell_type": "code",
   "execution_count": 23,
   "metadata": {},
   "outputs": [],
   "source": [
    "ProbData = ha.ReadProblem('Problem 1')\n",
    "ABC_IIFn(ProbData, 0.8)[0].Eval"
   ]
  },
  {
   "cell_type": "code",
   "execution_count": 20,
   "metadata": {},
   "outputs": [
    {
     "ename": "KeyError",
     "evalue": "'ABC-III Means'",
     "output_type": "error",
     "traceback": [
      "\u001b[0;31m---------------------------------------------------------------------------\u001b[0m",
      "\u001b[0;31mKeyError\u001b[0m                                  Traceback (most recent call last)",
      "Cell \u001b[0;32mIn[20], line 11\u001b[0m\n\u001b[1;32m      9\u001b[0m Results[\u001b[38;5;124m'\u001b[39m\u001b[38;5;124mABC-I Means\u001b[39m\u001b[38;5;124m'\u001b[39m]\u001b[38;5;241m.\u001b[39mappend(ABC_I\u001b[38;5;241m.\u001b[39mmean())\n\u001b[1;32m     10\u001b[0m Results[\u001b[38;5;124m'\u001b[39m\u001b[38;5;124mABC-II Means\u001b[39m\u001b[38;5;124m'\u001b[39m]\u001b[38;5;241m.\u001b[39mappend(ABC_II\u001b[38;5;241m.\u001b[39mmean())\n\u001b[0;32m---> 11\u001b[0m \u001b[43mResults\u001b[49m\u001b[43m[\u001b[49m\u001b[38;5;124;43m'\u001b[39;49m\u001b[38;5;124;43mABC-III Means\u001b[39;49m\u001b[38;5;124;43m'\u001b[39;49m\u001b[43m]\u001b[49m\u001b[38;5;241m.\u001b[39mappend(ABC_III\u001b[38;5;241m.\u001b[39mmean())\n\u001b[1;32m     12\u001b[0m Results[\u001b[38;5;124m'\u001b[39m\u001b[38;5;124mABC-I Std\u001b[39m\u001b[38;5;124m'\u001b[39m]\u001b[38;5;241m.\u001b[39mappend(ABC_I\u001b[38;5;241m.\u001b[39mstd())\n\u001b[1;32m     13\u001b[0m Results[\u001b[38;5;124m'\u001b[39m\u001b[38;5;124mABC-II Std\u001b[39m\u001b[38;5;124m'\u001b[39m]\u001b[38;5;241m.\u001b[39mappend(ABC_II\u001b[38;5;241m.\u001b[39mstd())\n",
      "\u001b[0;31mKeyError\u001b[0m: 'ABC-III Means'"
     ]
    }
   ],
   "source": [
    "Results = {'ABC-I Means':[], 'ABC-II Means':[], 'ABC-III Means':[], 'ABC-I Std':[], 'ABC-II Std':[], 'ABC-III Std':[]}\n",
    "problemsIndx = [i+1 for i in list(range(20))]\n",
    "n = 10\n",
    "alpha = 0.6\n",
    "for i in problemsIndx:\n",
    "    Problem = 'Problem '+str(i)\n",
    "    ProbData = ha.ReadProblem(Problem)\n",
    "    ABC_I = np.array([ABC_IFn(ProbData, alpha)[0].Eval for _ in range(n)])\n",
    "    ABC_II = np.array([ABC_IIFn(ProbData, alpha)[0].Eval for _ in range(n)])\n",
    "    ABC_III = np.array([ABC_IIIFn(ProbData, alpha)[0].Eval for _ in range(n)])\n",
    "    Results['ABC-I Means'].append(ABC_I.mean())\n",
    "    Results['ABC-II Means'].append(ABC_II.mean())\n",
    "    Results['ABC-III Means'].append(ABC_III.mean())\n",
    "    Results['ABC-I Std'].append(ABC_I.std())\n",
    "    Results['ABC-II Std'].append(ABC_II.std())\n",
    "    Results['ABC-III Std'].append(ABC_III.std())"
   ]
  },
  {
   "cell_type": "code",
   "execution_count": null,
   "metadata": {},
   "outputs": [],
   "source": [
    "ABC_II_Taguchi = pd.read_csv('L16_4.csv').iloc[:,:-1]"
   ]
  },
  {
   "cell_type": "code",
   "execution_count": null,
   "metadata": {},
   "outputs": [],
   "source": [
    "ABC_II_Taguchi = ABC_II_Taguchi.iloc[:, :3]"
   ]
  },
  {
   "cell_type": "code",
   "execution_count": null,
   "metadata": {},
   "outputs": [],
   "source": [
    "ABC_II_Taguchi.head()"
   ]
  },
  {
   "cell_type": "code",
   "execution_count": null,
   "metadata": {},
   "outputs": [],
   "source": [
    "ParameterLeves = {0 : [40, 60, 80, 100],\n",
    "1 : [40, 60, 80, 100],\n",
    "2 : [10, 20, 30, 40]}\n",
    "ABC_II_Taguchi.columns = ['PopSize', 'MaxItr', 'ArchiveSize']"
   ]
  },
  {
   "cell_type": "code",
   "execution_count": null,
   "metadata": {},
   "outputs": [],
   "source": [
    "4 ** 4 * 4"
   ]
  },
  {
   "cell_type": "code",
   "execution_count": null,
   "metadata": {},
   "outputs": [],
   "source": [
    "ParameterLeves[0][ABC_II_Taguchi.iloc[0, 0] - 1]"
   ]
  },
  {
   "cell_type": "code",
   "execution_count": null,
   "metadata": {},
   "outputs": [],
   "source": [
    "for i in range(ABC_II_Taguchi.shape[0]):\n",
    "    for j in range(ABC_II_Taguchi.shape[1]):\n",
    "        ABC_II_Taguchi.iloc[i, j] = ParameterLeves[j][ABC_II_Taguchi.iloc[i, j] - 1]"
   ]
  },
  {
   "cell_type": "code",
   "execution_count": null,
   "metadata": {},
   "outputs": [],
   "source": [
    "ABC_II_Taguchi.head()"
   ]
  },
  {
   "cell_type": "code",
   "execution_count": null,
   "metadata": {},
   "outputs": [],
   "source": [
    "Capacities, Demands, FixedCosts, TransPortationCosts = ha.ReadProblem('Problem 1')"
   ]
  },
  {
   "cell_type": "code",
   "execution_count": null,
   "metadata": {},
   "outputs": [],
   "source": [
    "ABC_Algorithm_FCLDCP_I(100, 10, 30, Demands, \\\n",
    "        Capacities, TransPortationCosts, FixedCosts)[0].Eval"
   ]
  },
  {
   "cell_type": "code",
   "execution_count": null,
   "metadata": {},
   "outputs": [],
   "source": [
    "Results = []\n",
    "for i in range(ABC_II_Taguchi.shape[0]):\n",
    "    PopSize, MaxItr, ArchiveSize = ABC_II_Taguchi.iloc[i, :]\n",
    "    Results.append(ABC_II_Algorithm_FCLDCP(PopSize, MaxItr, \n",
    "    Demands, Capacities, TransPortationCosts, FixedCosts, ArchiveSize)[0].Eval)\n",
    "\n",
    "    "
   ]
  },
  {
   "cell_type": "code",
   "execution_count": null,
   "metadata": {},
   "outputs": [],
   "source": [
    "ABC_II_Taguchi.insert(ABC_II_Taguchi.shape[1],'Response', Results)"
   ]
  },
  {
   "cell_type": "code",
   "execution_count": null,
   "metadata": {},
   "outputs": [],
   "source": [
    "ABC_II_Taguchi.to_excel('ABC_II_Taguchi.xlsx', index=False)"
   ]
  },
  {
   "cell_type": "code",
   "execution_count": null,
   "metadata": {},
   "outputs": [],
   "source": [
    "plt.figure(figsize=(8, 5))\n",
    "k = 1\n",
    "for i in Benchmarks:    \n",
    "    Capacities, Demands, FixedCosts, TransPortationCosts = ha.ReadProblem(i)\n",
    "    ABC = ABC_Algorithm_FCLDCP(100, 10, 1, 40, Demands, Capacities, \\\n",
    "        TransPortationCosts, FixedCosts)[1]\n",
    "    ABC_I = ABC_Algorithm_FCLDCP_I(100, 10, 30, Demands, \\\n",
    "        Capacities, TransPortationCosts, FixedCosts)[1]\n",
    "    ABC_II = ABC_II_Algorithm_FCLDCP(100, 10, \\\n",
    "        Demands, Capacities, TransPortationCosts, FixedCosts, 10)[1]\n",
    "    plt.subplot(3, 7, k)\n",
    "    plt.plot(ABC[1], '--', label = 'ABC')\n",
    "    plt.plot(ABC_I[1], '-', label = 'ABC-I')\n",
    "    plt.plot(ABC_II[1], '-.', label = 'ABC-II')\n",
    "    plt.legend()\n",
    "    plt.title(i)\n",
    "    k += 1\n",
    "    \n",
    "    "
   ]
  },
  {
   "cell_type": "code",
   "execution_count": null,
   "metadata": {},
   "outputs": [],
   "source": [
    "    ABC = ABC_Algorithm_FCLDCP(100, 100, 1, 40, Demands, Capacities, \\\n",
    "        TransPortationCosts, FixedCosts)"
   ]
  },
  {
   "cell_type": "code",
   "execution_count": null,
   "metadata": {},
   "outputs": [],
   "source": [
    "Capacities, Demands, FixedCosts, TransPortationCosts = ha.ReadProblem('Problem 1')"
   ]
  },
  {
   "cell_type": "code",
   "execution_count": null,
   "metadata": {},
   "outputs": [],
   "source": [
    "import os\n",
    "Benchmarks = [i[:-5] for i in os.listdir() if i[-4:] == 'xlsx' and i[:4] == 'Prob']"
   ]
  },
  {
   "cell_type": "code",
   "execution_count": null,
   "metadata": {},
   "outputs": [],
   "source": [
    "plt.figure(figsize=(20, 15))\n",
    "k = 1\n",
    "problemsIndx = [i+1 for i in list(range(20))]\n",
    "for i in problemsIndx:\n",
    "    Problem = 'Problem '+str(i)\n",
    "    Capacities, Demands, FixedCosts, TransPortationCosts = ha.ReadProblem(Problem)\n",
    "    ABC = ABC_Algorithm_FCLDCP(100, 100, 1, 40, Demands, Capacities,\\\n",
    "     TransPortationCosts, FixedCosts)\n",
    "    ABC_I = ABC_Algorithm_FCLDCP_I(100, 100, 30, Demands, \\\n",
    "        Capacities, TransPortationCosts, FixedCosts)\n",
    "    ABC_II = ABC_II_Algorithm_FCLDCP(80, 80, \\\n",
    "        Demands, Capacities, TransPortationCosts, FixedCosts, 40)\n",
    "    plt.subplot(4, 5, k)\n",
    "    plt.plot(ABC[1], '--', label = 'ABC-I')\n",
    "    plt.plot(ABC_I[1], '-', label = 'ABC-II')\n",
    "    plt.plot(ABC_II[1], '-.', label = 'ABC-III')\n",
    "    plt.legend()\n",
    "    plt.title('Problem ' + str(i))\n",
    "    k += 1\n",
    "plt.tight_layout()"
   ]
  },
  {
   "cell_type": "code",
   "execution_count": null,
   "metadata": {},
   "outputs": [],
   "source": [
    "ABCFun = lambda data:ABC = ABC_Algorithm_FCLDCP(100, 100, 1, 40, data[0], data[1], data[2], data[3])"
   ]
  },
  {
   "cell_type": "code",
   "execution_count": null,
   "metadata": {},
   "outputs": [],
   "source": [
    "ABCFun = lambda data:ABC = ABC_Algorithm_FCLDCP(100, 100, 1, 40, data[0], data[1],\\\n",
    "     data[2], data[3])\n",
    "ABC_IFn = lambda data:ABC_I = ABC_Algorithm_FCLDCP_I(100, 100, 30, data[0], data[1],\\\n",
    "     data[2], data[3])\n",
    "ABC_IIFn = lambda data:ABC_II_Algorithm_FCLDCP(80, 80, \\\n",
    "        data[0], data[1], data[2], data[3], 40)\n",
    "n = 1\n",
    "Results = {'ABC Mean':[], 'ABC-I Mean':[], 'ABC-II Mean':[], 'ABC Std':[], 'ABC-I Std':[], 'ABC-II Std':[]}\n",
    "for i in problemsIndx:\n",
    "    Problem = 'Problem '+str(i)\n",
    "    data = ha.ReadProblem(Problem)\n",
    "    ABCOutput = np.array([ABCFun(data)[0].Eval for i in range(n)])\n",
    "    ABCIOutput = np.array([ABC_IFun(data)[0].Eval for i in range(n)])\n",
    "    ABCIIOutput = np.array([ABC_IIFun(data)[0].Eval for i in range(n)])\n",
    "    Results['ABC Mean'].append(ABCOutput.mean())\n",
    "    Results['ABC-I Mean'].append(ABCIOutput.mean())\n",
    "    Results['ABC-II Mean'].append(ABCIIOutput.mean())\n",
    "    Results['ABC Std'].append(ABCOutput.Std())\n",
    "    Results['ABC-I Std'].append(ABCIOutput.Std())\n",
    "    Results['ABC-II Std'].append(ABCIIOutput.Std())"
   ]
  },
  {
   "cell_type": "code",
   "execution_count": null,
   "metadata": {},
   "outputs": [],
   "source": [
    "def chaotic_mapping_vector(dim):\n",
    "    vector = np.array([])\n",
    "    h = np.random.uniform()\n",
    "    gamma = h\n",
    "    for _ in range(dim):\n",
    "        vector = np.append(vector,gamma)\n",
    "        h = 4 * h*(1 - h)\n",
    "        gamma = 2/np.pi * np.arcsin(np.sqrt(h))\n",
    "    return vector"
   ]
  },
  {
   "cell_type": "code",
   "execution_count": null,
   "metadata": {},
   "outputs": [],
   "source": [
    "chaotic_mapping_vector(10)"
   ]
  },
  {
   "cell_type": "code",
   "execution_count": null,
   "metadata": {},
   "outputs": [],
   "source": [
    "plt.savefig('Convergence.png')"
   ]
  },
  {
   "cell_type": "code",
   "execution_count": null,
   "metadata": {},
   "outputs": [],
   "source": [
    "ABC = ABC_Algorithm_FCLDCP(100, 100, 1, 40, Demands, Capacities,\\\n",
    "     TransPortationCosts, FixedCosts)\n",
    "ABC_I = ABC_Algorithm_FCLDCP_I(100, 100, 30, Demands, \\\n",
    "    Capacities, TransPortationCosts, FixedCosts)\n",
    "ABC_II = ABC_II_Algorithm_FCLDCP(150, 80, \\\n",
    "    Demands, Capacities, TransPortationCosts, FixedCosts, 10)\n"
   ]
  },
  {
   "cell_type": "code",
   "execution_count": null,
   "metadata": {},
   "outputs": [],
   "source": [
    "plt.plot(ABC[1], '--', label = 'ABC')\n",
    "plt.plot(ABC_I[1], '-', label = 'ABC-I')\n",
    "plt.plot(ABC_II[1], '-.', label = 'ABC-II')\n",
    "plt.legend()\n",
    "plt.title(i)"
   ]
  },
  {
   "cell_type": "code",
   "execution_count": null,
   "metadata": {},
   "outputs": [],
   "source": [
    "\n",
    "from matplotlib.patches import Rectangle\n",
    "\n",
    "plt.figure(figsize=(20, 15))\n",
    "fig = plt.gcf()\n",
    "\n",
    "fig_w, fig_h = fig.get_size_inches()\n",
    "buffer = 0.1\n",
    "boundary_rect = Rectangle(xy=(-buffer, -buffer),\n",
    "                          width=fig_w + 2*buffer, height=fig_h + 2*buffer,\n",
    "                          color='Red', fill=False, zorder=0)\n",
    "ax = plt.gca()\n",
    "ax.add_patch(boundary_rect)\n",
    "k = 1\n",
    "for _ in range(20):\n",
    "    plt.subplot(4, 5, k)\n",
    "    plt.plot(np.sort(np.random.normal(-5,5, 100)))\n",
    "    plt.plot(np.sort(np.random.uniform(-5,5, 100)))\n",
    "    k += 1"
   ]
  },
  {
   "cell_type": "code",
   "execution_count": null,
   "metadata": {},
   "outputs": [],
   "source": [
    "plt.plot(ABC[1], '--', label = 'ABC')\n",
    "plt.plot(ABC_I[1], '-', label = 'ABC-I')\n",
    "plt.plot(ABC_II[1], '-.', label = 'ABC-II')\n",
    "plt.legend()"
   ]
  },
  {
   "cell_type": "code",
   "execution_count": null,
   "metadata": {},
   "outputs": [],
   "source": [
    "ABC_II_Taguchi.insert(ABC_II_Taguchi.shape[1], 'Response', Results)"
   ]
  },
  {
   "cell_type": "code",
   "execution_count": null,
   "metadata": {},
   "outputs": [],
   "source": [
    "ABC_II_Taguchi.to_excel('ABC_II_Taguchi.xlsx', index=False)"
   ]
  },
  {
   "cell_type": "code",
   "execution_count": null,
   "metadata": {},
   "outputs": [],
   "source": [
    "Capacities, Demands, FixedCosts, TransPortationCosts = ha.ReadProblem('Problem 1')"
   ]
  },
  {
   "cell_type": "code",
   "execution_count": null,
   "metadata": {},
   "outputs": [],
   "source": [
    "sol2 = ABC_II_Algorithm_FCLDCP(100, 100, Demands, Capacities, TransPortationCosts, FixedCosts, 10)\n",
    "sol2[0].Eval"
   ]
  },
  {
   "cell_type": "code",
   "execution_count": null,
   "metadata": {},
   "outputs": [],
   "source": [
    "sol1 = ABC_Algorithm_FCLDCP_I(50, 100, 10, Demands, Capacities, TransPortationCosts, FixedCosts)\n",
    "sol1[0].Eval"
   ]
  },
  {
   "cell_type": "code",
   "execution_count": null,
   "metadata": {},
   "outputs": [],
   "source": [
    "sol3 = ABC_Algorithm_FCLDCP(50, 100, 1, 10, Demands, Capacities, TransPortationCosts, FixedCosts)\n",
    "sol3[0].Eval"
   ]
  },
  {
   "cell_type": "code",
   "execution_count": null,
   "metadata": {},
   "outputs": [],
   "source": [
    "x = np.random.uniform(-5, 5 , 10)"
   ]
  },
  {
   "cell_type": "code",
   "execution_count": null,
   "metadata": {},
   "outputs": [],
   "source": [
    "import matplotlib.pyplot as plt"
   ]
  },
  {
   "cell_type": "code",
   "execution_count": null,
   "metadata": {},
   "outputs": [],
   "source": [
    "x, y = np.random.choice(range(5), 2)\n",
    "print(x, y)"
   ]
  },
  {
   "cell_type": "code",
   "execution_count": null,
   "metadata": {},
   "outputs": [],
   "source": [
    "denominator = np.max(x) - np.min(x)\n",
    "minimum = np.min(x)\n",
    "[(i-minimum)/denominator for i in x]"
   ]
  },
  {
   "cell_type": "code",
   "execution_count": null,
   "metadata": {},
   "outputs": [],
   "source": [
    "\n",
    "sol = ABC_Algorithm_FCLDCP_I(50, 50, 10, Demands, Capacities, TransPortationCosts, FixedCosts, 0.8)"
   ]
  },
  {
   "cell_type": "code",
   "execution_count": null,
   "metadata": {},
   "outputs": [],
   "source": [
    "sol[0].Eval"
   ]
  },
  {
   "cell_type": "code",
   "execution_count": null,
   "metadata": {},
   "outputs": [],
   "source": [
    "PopSizeLevels = [10, 50, 100, 150]\n",
    "MaxItrLevels = [10, 50, 100, 150]\n",
    "abondementLimitsLevels = [10, 20, 30, 40]"
   ]
  },
  {
   "cell_type": "code",
   "execution_count": null,
   "metadata": {},
   "outputs": [],
   "source": [
    "ABCITaguchi = pd.read_csv('ABC-I_Taguchi.csv')"
   ]
  },
  {
   "cell_type": "code",
   "execution_count": null,
   "metadata": {},
   "outputs": [],
   "source": [
    "rows = ABCITaguchi.iloc[:, 0].shape[0]\n",
    "for i in range(rows):\n",
    "    ABCITaguchi.iloc[i, 0] = PopSizeLevels[ABCITaguchi.iloc[i, 0] -1]"
   ]
  },
  {
   "cell_type": "code",
   "execution_count": null,
   "metadata": {},
   "outputs": [],
   "source": [
    "rows = ABCITaguchi.iloc[:, 1].shape[0]\n",
    "for i in range(rows):\n",
    "    ABCITaguchi.iloc[i, 1] = MaxItrLevels[ABCITaguchi.iloc[i, 1] -1]"
   ]
  },
  {
   "cell_type": "code",
   "execution_count": null,
   "metadata": {},
   "outputs": [],
   "source": [
    "rows = ABCITaguchi.iloc[:, 2].shape[0]\n",
    "for i in range(rows):\n",
    "    ABCITaguchi.iloc[i, 2] = abondementLimitsLevels[ABCITaguchi.iloc[i, 2] -1]"
   ]
  },
  {
   "cell_type": "code",
   "execution_count": null,
   "metadata": {},
   "outputs": [],
   "source": [
    "ABCITaguchi.columns = ['PopSize', 'MaxItr', 'Abandonment Limit']"
   ]
  },
  {
   "cell_type": "code",
   "execution_count": null,
   "metadata": {},
   "outputs": [],
   "source": [
    "ABCITaguchi.head()"
   ]
  },
  {
   "cell_type": "code",
   "execution_count": null,
   "metadata": {},
   "outputs": [],
   "source": [
    "pd.read_excel('ConvSpeed.xlsx', sheet_name='Problem 1').head()"
   ]
  },
  {
   "cell_type": "code",
   "execution_count": null,
   "metadata": {},
   "outputs": [],
   "source": [
    "plt.figure(figsize=(15, 18))\n",
    "k = 1\n",
    "for i in range(10, 20):\n",
    "    df = pd.read_excel('ConvSpeed.xlsx', sheet_name='Problem '+ str(i+1))\n",
    "    plt.subplot(5, 2, k)\n",
    "    plt.plot(df.iloc[:, 0], label = 'ABC_M')\n",
    "    plt.plot(df.iloc[:, 1], label = 'ABC_I')\n",
    "    plt.legend()\n",
    "    plt.xlabel('Iterations')\n",
    "    plt.ylabel('Total Cost')\n",
    "    k +=1\n",
    "\n",
    "plt.savefig('Fig2.png')\n"
   ]
  },
  {
   "cell_type": "code",
   "execution_count": null,
   "metadata": {},
   "outputs": [],
   "source": [
    "from scipy.stats import wilcoxon"
   ]
  },
  {
   "cell_type": "code",
   "execution_count": null,
   "metadata": {},
   "outputs": [],
   "source": [
    "Results = pd.read_excel('Results.xlsx')"
   ]
  },
  {
   "cell_type": "code",
   "execution_count": null,
   "metadata": {},
   "outputs": [],
   "source": [
    "#\n",
    "statistics, P_value = wilcoxon(Results.iloc[:, 0], Results.iloc[:,1])\n",
    "statistics, P_value"
   ]
  },
  {
   "cell_type": "code",
   "execution_count": null,
   "metadata": {},
   "outputs": [],
   "source": [
    "statistics, P_value = wilcoxon(Results.iloc[:, 2], Results.iloc[:,3])\n",
    "statistics, P_value"
   ]
  },
  {
   "cell_type": "code",
   "execution_count": null,
   "metadata": {},
   "outputs": [],
   "source": [
    "Capacities, Demands, FixedCosts, TransPortationCosts = ha.ReadProblem('Problem 1')"
   ]
  },
  {
   "cell_type": "code",
   "execution_count": null,
   "metadata": {},
   "outputs": [],
   "source": [
    "sol2 = ABC_Algorithm_FCLDCP(100, 100, 2, 10, Demands, Capacities, TransPortationCosts, FixedCosts)"
   ]
  },
  {
   "cell_type": "code",
   "execution_count": null,
   "metadata": {},
   "outputs": [],
   "source": [
    "sol = ABC_Algorithm_FCLDCP_I(100, 100, 2, 10, Demands, Capacities, TransPortationCosts, FixedCosts)"
   ]
  },
  {
   "cell_type": "code",
   "execution_count": null,
   "metadata": {},
   "outputs": [],
   "source": [
    "plt.plot(sol[1], label = 'ABC-I')\n",
    "plt.plot(sol2[1], label = 'ABC-M')\n",
    "plt.title('Problem 1')\n",
    "plt.xlabel('Iteration')\n",
    "plt.ylabel('Total Cost')\n",
    "plt.legend()"
   ]
  },
  {
   "cell_type": "code",
   "execution_count": null,
   "metadata": {},
   "outputs": [],
   "source": [
    "import os"
   ]
  },
  {
   "cell_type": "code",
   "execution_count": null,
   "metadata": {},
   "outputs": [],
   "source": [
    "files = os.listdir()\n",
    "problems = [i for i in files if i[-4:] == 'xlsx' and i[:3] == 'Pro']"
   ]
  },
  {
   "cell_type": "code",
   "execution_count": null,
   "metadata": {},
   "outputs": [],
   "source": [
    "int(problems[0][9:].split('.')[0])"
   ]
  },
  {
   "cell_type": "code",
   "execution_count": null,
   "metadata": {},
   "outputs": [],
   "source": [
    "'Problem '+ str(1)+'.xlsx'"
   ]
  },
  {
   "cell_type": "code",
   "execution_count": null,
   "metadata": {},
   "outputs": [],
   "source": [
    "plt.figure(figsize=(10, 8))\n",
    "k = 1\n",
    "for i in range(20):\n",
    "    problemName = 'Problem '+ str(i+1)\n",
    "    Capacities, Demands, FixedCosts, TransPortationCosts = ha.ReadProblem(problemName)\n",
    "    sol_ABC_M = ABC_Algorithm_FCLDCP(100, 100, 2, 10, Demands, Capacities, TransPortationCosts, FixedCosts)\n",
    "    sol_ABC_I = ABC_Algorithm_FCLDCP_I(100, 100, 2, 10, Demands, Capacities, TransPortationCosts, FixedCosts)\n",
    "    plt.subplot(5, 4, k)\n",
    "    plt.plot(sol_ABC_M[1], label = 'ABC-M')\n",
    "    plt.plot(sol_ABC_I[1], label = 'ABC-I')\n",
    "    plt.xlabel('Iterations')\n",
    "    plt.ylabel('Total Cost')\n",
    "    plt.title(problemName)\n",
    "    k += 1"
   ]
  },
  {
   "cell_type": "code",
   "execution_count": null,
   "metadata": {},
   "outputs": [],
   "source": [
    "def fun1(Demands, Capacities, TransPortationCosts, FixedCosts):\n",
    "    return ABC_Algorithm_FCLDCP(100, 100, 2, 10, Demands, Capacities, TransPortationCosts, FixedCosts)\n",
    "def fun2(Demands, Capacities, TransPortationCosts, FixedCosts):\n",
    "    return ABC_Algorithm_FCLDCP_I(100, 100, 2, 10, Demands, Capacities, TransPortationCosts, FixedCosts)"
   ]
  },
  {
   "cell_type": "code",
   "execution_count": null,
   "metadata": {},
   "outputs": [],
   "source": [
    "sol[0].Eval"
   ]
  },
  {
   "cell_type": "code",
   "execution_count": null,
   "metadata": {},
   "outputs": [],
   "source": [
    "Results = {}\n",
    "Results['ABC-M Means'] = []\n",
    "Results['ABC-M Std'] = []\n",
    "Results['ABC-I Means'] = []\n",
    "Results['ABC-I Std'] = []\n",
    "\n",
    "for i in range(20):\n",
    "    problemName = 'Problem '+ str(i+1)\n",
    "    Capacities, Demands, FixedCosts, TransPortationCosts = ha.ReadProblem(problemName)\n",
    "    output1 = np.array([fun1(Demands, Capacities, TransPortationCosts, FixedCosts)[0].Eval for _ in range(20)])\n",
    "    output2 = np.array([fun2(Demands, Capacities, TransPortationCosts, FixedCosts)[0].Eval for _ in range(20)])\n",
    "    Results['ABC-M Means'].append(output1.mean())\n",
    "    Results['ABC-I Means'].append(output2.mean())\n",
    "    Results['ABC-M Std'].append(output1.std())\n",
    "    Results['ABC-I Std'].append(output2.std())\n",
    "   "
   ]
  },
  {
   "cell_type": "code",
   "execution_count": null,
   "metadata": {},
   "outputs": [],
   "source": [
    "pd.DataFrame(np.random.uniform(-5, 5, (3, 4)), columns=['Column ' + str(i+1) for i in range(4)], index=['Row '+str(i+1) for i in range(3)]).to_excel('abc.xlsx', sheet_name='First')"
   ]
  },
  {
   "cell_type": "code",
   "execution_count": null,
   "metadata": {},
   "outputs": [],
   "source": [
    "with pd.ExcelWriter('abc.xlsx', engine='openpyxl', mode= 'a') as wr:\n",
    "    pd.DataFrame(np.random.uniform(-5, 5, (3, 4)), columns=['Column ' + str(i+1) for i in range(4)], index=['Row '+str(i+1) for i in range(3)]).to_excel(wr, sheet_name='Second')\n"
   ]
  },
  {
   "cell_type": "code",
   "execution_count": null,
   "metadata": {},
   "outputs": [],
   "source": [
    "import numpy as np"
   ]
  },
  {
   "cell_type": "code",
   "execution_count": null,
   "metadata": {},
   "outputs": [],
   "source": [
    "solutions = list(range(10))\n",
    "fitnessProb = np.random.uniform(0, 1, 10)\n",
    "summation = fitnessProb.sum()\n",
    "fitnessProb = [i/summation for i in fitnessProb]"
   ]
  },
  {
   "cell_type": "code",
   "execution_count": null,
   "metadata": {},
   "outputs": [],
   "source": [
    "OA = pd.read_excel('OA.xlsx')"
   ]
  },
  {
   "cell_type": "code",
   "execution_count": null,
   "metadata": {},
   "outputs": [],
   "source": [
    "results = {}\n",
    "for i in range(OA.shape[0]):\n",
    "    popSize, MaxItr, a, abandonmentLimit = list(OA.loc[i])\n",
    "    results[i] = [ABC_Algorithm_FCLDCP(popSize, MaxItr, a, abandonmentLimit, Demands, Capacities, TransPortationCosts, FixedCosts)[0].Eval for _ in range(10)]\n"
   ]
  },
  {
   "cell_type": "code",
   "execution_count": null,
   "metadata": {},
   "outputs": [],
   "source": [
    "pd.DataFrame(results).to_excel('DOE.xlsx')"
   ]
  },
  {
   "cell_type": "code",
   "execution_count": null,
   "metadata": {},
   "outputs": [],
   "source": [
    "pd.DataFrame(results).std()"
   ]
  },
  {
   "cell_type": "code",
   "execution_count": null,
   "metadata": {},
   "outputs": [],
   "source": [
    "Capacities, Demands, FixedCosts, TransPortationCosts = ha.ReadProblem('Problem 1')\n",
    "sol1 = ABC_Algorithm_FCLDCP(50, 50, 0, 5, Demands, Capacities, TransPortationCosts, FixedCosts)\n",
    "plt.plot(sol1[1])\n",
    "sol2 = ABC_Algorithm_FCLDCP(100, 50, 0, 5, Demands, Capacities, TransPortationCosts, FixedCosts)\n",
    "plt.plot(sol2[1])\n",
    "sol3 = ABC_Algorithm_FCLDCP(50, 100, 0, 5, Demands, Capacities, TransPortationCosts, FixedCosts)\n",
    "plt.plot(sol3[1])\n",
    "plt.legend(['sol1', 'sol2', 'sol3'])"
   ]
  },
  {
   "cell_type": "code",
   "execution_count": null,
   "metadata": {},
   "outputs": [],
   "source": [
    "import ezdxf\n",
    "\n",
    "doc = ezdxf.new(\"R2000\")\n",
    "\n",
    "img_file=\"abc.png\"\n",
    "\n",
    "my_image_def = doc.add_image_def(filename=img_file, size_in_pixel=(930, 2500))\n",
    "\n",
    "msp = doc.modelspace()\n",
    "\n",
    "msp.add_image(\n",
    "    insert=(2, 1),\n",
    "    size_in_units=(6.4, 3.6),\n",
    "    image_def=my_image_def,\n",
    "    rotation=0)\n",
    "\n",
    "msp.add_image(\n",
    "    insert=(4, 5),\n",
    "    size_in_units=(3.2, 1.8),\n",
    "    image_def=my_image_def,\n",
    "    rotation=30)\n",
    "\n",
    "image_defs = doc.objects.query(\"IMAGEDEF\")\n",
    "\n",
    "doc.saveas(\"dxf.dxf\")"
   ]
  }
 ],
 "metadata": {
  "kernelspec": {
   "display_name": "Python 3",
   "language": "python",
   "name": "python3"
  },
  "language_info": {
   "codemirror_mode": {
    "name": "ipython",
    "version": 3
   },
   "file_extension": ".py",
   "mimetype": "text/x-python",
   "name": "python",
   "nbconvert_exporter": "python",
   "pygments_lexer": "ipython3",
   "version": "3.12.1"
  }
 },
 "nbformat": 4,
 "nbformat_minor": 2
}
